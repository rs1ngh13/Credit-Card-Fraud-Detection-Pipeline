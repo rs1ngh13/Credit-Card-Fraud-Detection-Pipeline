{
 "cells": [
  {
   "cell_type": "code",
   "execution_count": 0,
   "metadata": {
    "application/vnd.databricks.v1+cell": {
     "cellMetadata": {
      "byteLimit": 2048000,
      "rowLimit": 10000
     },
     "inputWidgets": {},
     "nuid": "4664af9d-d954-4db7-b5e3-00177751bf5e",
     "showTitle": false,
     "tableResultSettingsMap": {},
     "title": ""
    }
   },
   "outputs": [],
   "source": [
    "from pyspark.sql.functions import from_json, col\n",
    "from pyspark.sql.types import StructType, StructField, StringType, DoubleType\n",
    "\n",
    "#event hub connection string\n",
    "connection_string = (\n",
    "    \"Endpoint=sb://fraud-detection-project-ns.servicebus.windows.net/;\"\n",
    "    \"SharedAccessKeyName=RootManageSharedAccessKey;\"\n",
    "    \"SharedAccessKey=jqE/NKbtmuz6h3cAc1PfBPai8DUkWdnHt+AEhEvO9dQ=;\"\n",
    "    \"EntityPath=transaction-streams\"\n",
    ")\n",
    "\n",
    "eventhubs_conf = {\n",
    "    'eventhubs.connectionString': sc._jvm.org.apache.spark.eventhubs.EventHubsUtils.encrypt(connection_string)\n",
    "}\n",
    "\n",
    "#transaction schema\n",
    "schema = StructType([\n",
    "    StructField(\"transaction_id\", StringType()),\n",
    "    StructField(\"user_id\", StringType()),\n",
    "    StructField(\"amount\", DoubleType()),\n",
    "    StructField(\"merchant_id\", StringType()),\n",
    "    StructField(\"location\", StringType()),\n",
    "    StructField(\"timestamp\", StringType())\n",
    "])\n",
    "\n",
    "#read stream from event hub\n",
    "raw_stream = (\n",
    "    spark.readStream\n",
    "    .format(\"eventhubs\")\n",
    "    .options(**eventhubs_conf)\n",
    "    .load()\n",
    ")\n",
    "\n",
    "#flatten data\n",
    "parsed_stream = (\n",
    "    raw_stream\n",
    "    .withColumn(\"body\", col(\"body\").cast(\"string\"))\n",
    "    .select(from_json(col(\"body\"), schema).alias(\"data\"))\n",
    "    .select(\"data.*\")\n",
    ")\n",
    "\n",
    "#mount container\n",
    "spark.conf.set(\n",
    "  \"fs.azure.account.key.storageaccount9613.dfs.core.windows.net\",\n",
    "  \"XvCGvmbsEeJ4hjnQ7D3xUAxNMQznhaW6o8UhOXpBTFmxxOZtPhHenywE2Z3qmUYlup6bazd/9glE+AStAsXwjA==\"\n",
    ")\n",
    "\n",
    "#write transactions to storage account\n",
    "query = (\n",
    "    parsed_stream.writeStream\n",
    "    .format(\"delta\")\n",
    "    .option(\"checkpointLocation\", \"abfss://fraud-detection-container@storageaccount9613.dfs.core.windows.net/checkpoints/fraud\")\n",
    "    .start(\"abfss://fraud-detection-container@storageaccount9613.dfs.core.windows.net/fraud_data\")\n",
    ")\n"
   ]
  }
 ],
 "metadata": {
  "application/vnd.databricks.v1+notebook": {
   "computePreferences": null,
   "dashboards": [],
   "environmentMetadata": {
    "base_environment": "",
    "environment_version": "2"
   },
   "inputWidgetPreferences": null,
   "language": "python",
   "notebookMetadata": {
    "pythonIndentUnit": 4
   },
   "notebookName": "01_stream_data.ipynb",
   "widgets": {}
  },
  "language_info": {
   "name": "python"
  }
 },
 "nbformat": 4,
 "nbformat_minor": 0
}