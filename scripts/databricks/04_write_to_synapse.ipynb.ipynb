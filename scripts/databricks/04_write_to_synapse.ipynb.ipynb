{
 "cells": [
  {
   "cell_type": "code",
   "execution_count": 0,
   "metadata": {
    "application/vnd.databricks.v1+cell": {
     "cellMetadata": {
      "byteLimit": 2048000,
      "rowLimit": 10000
     },
     "inputWidgets": {},
     "nuid": "cd3c539f-930d-46b3-88da-e0efca6bee04",
     "showTitle": false,
     "tableResultSettingsMap": {},
     "title": ""
    }
   },
   "outputs": [],
   "source": [
    "from pyspark.sql import SparkSession\n",
    "\n",
    "#jdbc connection\n",
    "jdbc_url = (\n",
    "    \"jdbc:sqlserver://fraud-detection-synapse-9613.sql.azuresynapse.net:1433;\"\n",
    "    \"database=fraudpool;\"\n",
    "    \"user=fraudadmin;\"\n",
    "    \"password=Your$StrongPass123!;\"\n",
    "    \"encrypt=true;\"\n",
    "    \"trustServerCertificate=false;\"\n",
    "    \"hostNameInCertificate=*.sql.azuresynapse.net;\"\n",
    "    \"loginTimeout=30;\"\n",
    ")\n",
    "\n",
    "#load data\n",
    "spark.conf.set(\n",
    "  \"fs.azure.account.key.storageaccount9613.dfs.core.windows.net\",\n",
    "  \"XvCGvmbsEeJ4hjnQ7D3xUAxNMQznhaW6o8UhOXpBTFmxxOZtPhHenywE2Z3qmUYlup6bazd/9glE+AStAsXwjA==\"\n",
    ")\n",
    "anomaly_df = spark.read.format(\"delta\").load(\n",
    "    \"abfss://fraud-detection-container@storageaccount9613.dfs.core.windows.net/anomaly_data\"\n",
    ")\n",
    "\n",
    "#write data to Synapse Table\n",
    "(anomaly_df.write\n",
    "    .format(\"com.databricks.spark.sqldw\")\n",
    "    .option(\"url\", jdbc_url)\n",
    "    .option(\"forwardSparkAzureStorageCredentials\", \"true\")\n",
    "    .option(\"dbtable\", \"FraudFlags\")\n",
    "    .option(\"tempDir\", \"abfss://fraud-detection-container@storageaccount9613.dfs.core.windows.net/synapse_temp\")\n",
    "    .mode(\"overwrite\")\n",
    "    .save()\n",
    ")"
   ]
  }
 ],
 "metadata": {
  "application/vnd.databricks.v1+notebook": {
   "computePreferences": null,
   "dashboards": [],
   "environmentMetadata": {
    "base_environment": "",
    "environment_version": "2"
   },
   "inputWidgetPreferences": null,
   "language": "python",
   "notebookMetadata": {
    "pythonIndentUnit": 4
   },
   "notebookName": "04_write_to_synapse.ipynb",
   "widgets": {}
  },
  "language_info": {
   "name": "python"
  }
 },
 "nbformat": 4,
 "nbformat_minor": 0
}