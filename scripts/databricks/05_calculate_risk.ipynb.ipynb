{
 "cells": [
  {
   "cell_type": "code",
   "execution_count": 0,
   "metadata": {
    "application/vnd.databricks.v1+cell": {
     "cellMetadata": {
      "byteLimit": 2048000,
      "rowLimit": 10000
     },
     "inputWidgets": {},
     "nuid": "0dd8c7ff-8a12-4e69-93e9-4ef1a7712de6",
     "showTitle": false,
     "tableResultSettingsMap": {},
     "title": ""
    }
   },
   "outputs": [
    {
     "name": "stdout",
     "output_type": "stream",
     "text": [
      "Number of fraudulent transactions: 134\n",
      "Number of risky transactions (risk_score > 0.1): 350\n",
      "💰 Total Amount in Risky Transactions (risk_score > 0.1): $406,532.87\n",
      "⚠️ Total Amount in Fraudulent Transactions (anomaly_flag == 1): $322,928.42\n"
     ]
    }
   ],
   "source": [
    "from pyspark.sql import SparkSession\n",
    "from pyspark.sql.functions import col, mean, stddev, when, abs\n",
    "\n",
    "#jdbc connection \n",
    "jdbc_url = (\n",
    "    \"jdbc:sqlserver://fraud-detection-synapse-9613.sql.azuresynapse.net:1433;\"\n",
    "    \"database=fraudpool;\"\n",
    "    \"encrypt=true;\"\n",
    "    \"trustServerCertificate=false;\"\n",
    "    \"hostNameInCertificate=*.sql.azuresynapse.net;\"\n",
    "    \"loginTimeout=30;\"\n",
    "    \"user=username;\"\n",
    "    \"password=password-here;\"\n",
    ")\n",
    "\n",
    "#load data from table\n",
    "spark.conf.set(\n",
    "    \"fs.azure.account.key.storageaccount9613.dfs.core.windows.net\",\n",
    "    \"storage-account-key\"\n",
    ")\n",
    "\n",
    "anomaly_df = spark.read.format(\"delta\").load(\n",
    "    \"abfss://fraud-detection-container@storageaccount9613.dfs.core.windows.net/anomaly_data\"\n",
    ")\n",
    "\n",
    "#risk score calculation\n",
    "expected_states = [\"CT\", \"NY\", \"NJ\", \"MA\"]\n",
    "potential_fraud_states = [\"TX\", \"CA\", \"WA\", \"OH\", \"FL\"]\n",
    "\n",
    "risk_score_df = anomaly_df.withColumn(\n",
    "    \"risk_score\",\n",
    "    when((col(\"merchant_id\") == \"Taco Bell\") & (col(\"amount\") > 100), 0.8)\n",
    "    .when((col(\"merchant_id\") == \"Exxon\") & (col(\"amount\") > 150), 0.8)\n",
    "    .when((col(\"amount\") > 1500), 0.9)\n",
    "    .when((col(\"location\").isin(potential_fraud_states)) & (col(\"amount\") > 500), 0.9)\n",
    "    .when((col(\"location\").isin(potential_fraud_states)), 0.5)\n",
    "    .when((col(\"location\").isin(expected_states)) & (col(\"amount\") > 500), 0.7)\n",
    "    .otherwise(0.1)\n",
    ")\n",
    "\n",
    "#update Synapse table\n",
    "(risk_score_df.write\n",
    "    .format(\"com.databricks.spark.sqldw\")\n",
    "    .option(\"url\", jdbc_url)\n",
    "    .option(\"forwardSparkAzureStorageCredentials\", \"true\")\n",
    "    .option(\"dbtable\", \"FraudFlags\")\n",
    "    .option(\"tempDir\", \"abfss://fraud-detection-container@storageaccount9613.dfs.core.windows.net/synapse_temp\")\n",
    "    .mode(\"overwrite\")\n",
    "    .save()\n",
    ")\n",
    "\n",
    "#sanity check\n",
    "fraud_count = risk_score_df.filter(col(\"anomaly_flag\") == 1).count()\n",
    "print(f\"Number of fraudulent transactions: {fraud_count}\")\n",
    "fraud_total = risk_score_df.filter(col(\"anomaly_flag\") == 1).agg({\"amount\": \"sum\"}).collect()[0][0]\n",
    "print(f\"Total Amount in Fraudulent Transactions (anomaly_flag == 1): ${fraud_total:,.2f}\")\n",
    "\n",
    "\n",
    "risky_count = risk_score_df.filter(col(\"risk_score\") > 0.1).count()\n",
    "print(f\"Number of risky transactions (risk_score > 0.1): {risky_count}\")\n",
    "risky_total = risk_score_df.filter(col(\"risk_score\") > 0.1).agg({\"amount\": \"sum\"}).collect()[0][0]\n",
    "print(f\"Total Amount in Risky Transactions (risk_score > 0.1): ${risky_total:,.2f}\")\n"
   ]
  }
 ],
 "metadata": {
  "application/vnd.databricks.v1+notebook": {
   "computePreferences": null,
   "dashboards": [],
   "environmentMetadata": {
    "base_environment": "",
    "environment_version": "2"
   },
   "inputWidgetPreferences": null,
   "language": "python",
   "notebookMetadata": {
    "pythonIndentUnit": 4
   },
   "notebookName": "05_calculate_risk.ipynb",
   "widgets": {}
  },
  "language_info": {
   "name": "python"
  }
 },
 "nbformat": 4,
 "nbformat_minor": 0
}
